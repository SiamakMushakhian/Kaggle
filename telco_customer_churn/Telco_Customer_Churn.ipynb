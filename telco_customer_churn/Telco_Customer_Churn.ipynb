{
 "cells": [
  {
   "cell_type": "markdown",
   "id": "296de970",
   "metadata": {},
   "source": [
    "# Context"
   ]
  },
  {
   "cell_type": "markdown",
   "id": "054c66c8",
   "metadata": {},
   "source": [
    "Predict behavior to retain customers. You can analyze all relevant customer data and develop focused customer retention programs [IBM Sample Data Sets (kaggle)](https://www.kaggle.com/datasets/blastchar/telco-customer-churn)."
   ]
  },
  {
   "cell_type": "markdown",
   "id": "5749a88e",
   "metadata": {},
   "source": [
    "# Load Libraries"
   ]
  },
  {
   "cell_type": "code",
   "execution_count": 1,
   "id": "2d8fae9a",
   "metadata": {},
   "outputs": [],
   "source": [
    "import numpy as np\n",
    "import pandas as pd\n",
    "import seaborn as sns\n",
    "import matplotlib.pyplot as plt\n",
    "from pathlib import Path"
   ]
  },
  {
   "cell_type": "code",
   "execution_count": 2,
   "id": "4bbd26bb",
   "metadata": {},
   "outputs": [],
   "source": [
    "%matplotlib inline"
   ]
  },
  {
   "cell_type": "markdown",
   "id": "f1629898",
   "metadata": {},
   "source": [
    "# Load Data"
   ]
  },
  {
   "cell_type": "code",
   "execution_count": 3,
   "id": "44145cfb",
   "metadata": {},
   "outputs": [],
   "source": [
    "current_dir = Path('.').resolve()"
   ]
  },
  {
   "cell_type": "code",
   "execution_count": 4,
   "id": "95bdba35",
   "metadata": {},
   "outputs": [
    {
     "data": {
      "text/plain": [
       "PosixPath('/mnt/c/Users/siama/Desktop/github/Kaggle/telco_customer_churn')"
      ]
     },
     "execution_count": 4,
     "metadata": {},
     "output_type": "execute_result"
    }
   ],
   "source": [
    "current_dir"
   ]
  },
  {
   "cell_type": "code",
   "execution_count": 5,
   "id": "a653d047",
   "metadata": {},
   "outputs": [],
   "source": [
    "file_path = current_dir / 'data/WA_Fn-UseC_-Telco-Customer-Churn.csv'"
   ]
  },
  {
   "cell_type": "code",
   "execution_count": 6,
   "id": "240e195e",
   "metadata": {},
   "outputs": [],
   "source": [
    "df = pd.read_csv(file_path)"
   ]
  },
  {
   "cell_type": "code",
   "execution_count": 7,
   "id": "f19556b7",
   "metadata": {},
   "outputs": [
    {
     "data": {
      "text/html": [
       "<div>\n",
       "<style scoped>\n",
       "    .dataframe tbody tr th:only-of-type {\n",
       "        vertical-align: middle;\n",
       "    }\n",
       "\n",
       "    .dataframe tbody tr th {\n",
       "        vertical-align: top;\n",
       "    }\n",
       "\n",
       "    .dataframe thead th {\n",
       "        text-align: right;\n",
       "    }\n",
       "</style>\n",
       "<table border=\"1\" class=\"dataframe\">\n",
       "  <thead>\n",
       "    <tr style=\"text-align: right;\">\n",
       "      <th></th>\n",
       "      <th>0</th>\n",
       "      <th>1</th>\n",
       "      <th>2</th>\n",
       "      <th>3</th>\n",
       "      <th>4</th>\n",
       "    </tr>\n",
       "  </thead>\n",
       "  <tbody>\n",
       "    <tr>\n",
       "      <th>customerID</th>\n",
       "      <td>7590-VHVEG</td>\n",
       "      <td>5575-GNVDE</td>\n",
       "      <td>3668-QPYBK</td>\n",
       "      <td>7795-CFOCW</td>\n",
       "      <td>9237-HQITU</td>\n",
       "    </tr>\n",
       "    <tr>\n",
       "      <th>gender</th>\n",
       "      <td>Female</td>\n",
       "      <td>Male</td>\n",
       "      <td>Male</td>\n",
       "      <td>Male</td>\n",
       "      <td>Female</td>\n",
       "    </tr>\n",
       "    <tr>\n",
       "      <th>SeniorCitizen</th>\n",
       "      <td>0</td>\n",
       "      <td>0</td>\n",
       "      <td>0</td>\n",
       "      <td>0</td>\n",
       "      <td>0</td>\n",
       "    </tr>\n",
       "    <tr>\n",
       "      <th>Partner</th>\n",
       "      <td>Yes</td>\n",
       "      <td>No</td>\n",
       "      <td>No</td>\n",
       "      <td>No</td>\n",
       "      <td>No</td>\n",
       "    </tr>\n",
       "    <tr>\n",
       "      <th>Dependents</th>\n",
       "      <td>No</td>\n",
       "      <td>No</td>\n",
       "      <td>No</td>\n",
       "      <td>No</td>\n",
       "      <td>No</td>\n",
       "    </tr>\n",
       "    <tr>\n",
       "      <th>tenure</th>\n",
       "      <td>1</td>\n",
       "      <td>34</td>\n",
       "      <td>2</td>\n",
       "      <td>45</td>\n",
       "      <td>2</td>\n",
       "    </tr>\n",
       "    <tr>\n",
       "      <th>PhoneService</th>\n",
       "      <td>No</td>\n",
       "      <td>Yes</td>\n",
       "      <td>Yes</td>\n",
       "      <td>No</td>\n",
       "      <td>Yes</td>\n",
       "    </tr>\n",
       "    <tr>\n",
       "      <th>MultipleLines</th>\n",
       "      <td>No phone service</td>\n",
       "      <td>No</td>\n",
       "      <td>No</td>\n",
       "      <td>No phone service</td>\n",
       "      <td>No</td>\n",
       "    </tr>\n",
       "    <tr>\n",
       "      <th>InternetService</th>\n",
       "      <td>DSL</td>\n",
       "      <td>DSL</td>\n",
       "      <td>DSL</td>\n",
       "      <td>DSL</td>\n",
       "      <td>Fiber optic</td>\n",
       "    </tr>\n",
       "    <tr>\n",
       "      <th>OnlineSecurity</th>\n",
       "      <td>No</td>\n",
       "      <td>Yes</td>\n",
       "      <td>Yes</td>\n",
       "      <td>Yes</td>\n",
       "      <td>No</td>\n",
       "    </tr>\n",
       "    <tr>\n",
       "      <th>OnlineBackup</th>\n",
       "      <td>Yes</td>\n",
       "      <td>No</td>\n",
       "      <td>Yes</td>\n",
       "      <td>No</td>\n",
       "      <td>No</td>\n",
       "    </tr>\n",
       "    <tr>\n",
       "      <th>DeviceProtection</th>\n",
       "      <td>No</td>\n",
       "      <td>Yes</td>\n",
       "      <td>No</td>\n",
       "      <td>Yes</td>\n",
       "      <td>No</td>\n",
       "    </tr>\n",
       "    <tr>\n",
       "      <th>TechSupport</th>\n",
       "      <td>No</td>\n",
       "      <td>No</td>\n",
       "      <td>No</td>\n",
       "      <td>Yes</td>\n",
       "      <td>No</td>\n",
       "    </tr>\n",
       "    <tr>\n",
       "      <th>StreamingTV</th>\n",
       "      <td>No</td>\n",
       "      <td>No</td>\n",
       "      <td>No</td>\n",
       "      <td>No</td>\n",
       "      <td>No</td>\n",
       "    </tr>\n",
       "    <tr>\n",
       "      <th>StreamingMovies</th>\n",
       "      <td>No</td>\n",
       "      <td>No</td>\n",
       "      <td>No</td>\n",
       "      <td>No</td>\n",
       "      <td>No</td>\n",
       "    </tr>\n",
       "    <tr>\n",
       "      <th>Contract</th>\n",
       "      <td>Month-to-month</td>\n",
       "      <td>One year</td>\n",
       "      <td>Month-to-month</td>\n",
       "      <td>One year</td>\n",
       "      <td>Month-to-month</td>\n",
       "    </tr>\n",
       "    <tr>\n",
       "      <th>PaperlessBilling</th>\n",
       "      <td>Yes</td>\n",
       "      <td>No</td>\n",
       "      <td>Yes</td>\n",
       "      <td>No</td>\n",
       "      <td>Yes</td>\n",
       "    </tr>\n",
       "    <tr>\n",
       "      <th>PaymentMethod</th>\n",
       "      <td>Electronic check</td>\n",
       "      <td>Mailed check</td>\n",
       "      <td>Mailed check</td>\n",
       "      <td>Bank transfer (automatic)</td>\n",
       "      <td>Electronic check</td>\n",
       "    </tr>\n",
       "    <tr>\n",
       "      <th>MonthlyCharges</th>\n",
       "      <td>29.85</td>\n",
       "      <td>56.95</td>\n",
       "      <td>53.85</td>\n",
       "      <td>42.3</td>\n",
       "      <td>70.7</td>\n",
       "    </tr>\n",
       "    <tr>\n",
       "      <th>TotalCharges</th>\n",
       "      <td>29.85</td>\n",
       "      <td>1889.5</td>\n",
       "      <td>108.15</td>\n",
       "      <td>1840.75</td>\n",
       "      <td>151.65</td>\n",
       "    </tr>\n",
       "    <tr>\n",
       "      <th>Churn</th>\n",
       "      <td>No</td>\n",
       "      <td>No</td>\n",
       "      <td>Yes</td>\n",
       "      <td>No</td>\n",
       "      <td>Yes</td>\n",
       "    </tr>\n",
       "  </tbody>\n",
       "</table>\n",
       "</div>"
      ],
      "text/plain": [
       "                                 0             1               2  \\\n",
       "customerID              7590-VHVEG    5575-GNVDE      3668-QPYBK   \n",
       "gender                      Female          Male            Male   \n",
       "SeniorCitizen                    0             0               0   \n",
       "Partner                        Yes            No              No   \n",
       "Dependents                      No            No              No   \n",
       "tenure                           1            34               2   \n",
       "PhoneService                    No           Yes             Yes   \n",
       "MultipleLines     No phone service            No              No   \n",
       "InternetService                DSL           DSL             DSL   \n",
       "OnlineSecurity                  No           Yes             Yes   \n",
       "OnlineBackup                   Yes            No             Yes   \n",
       "DeviceProtection                No           Yes              No   \n",
       "TechSupport                     No            No              No   \n",
       "StreamingTV                     No            No              No   \n",
       "StreamingMovies                 No            No              No   \n",
       "Contract            Month-to-month      One year  Month-to-month   \n",
       "PaperlessBilling               Yes            No             Yes   \n",
       "PaymentMethod     Electronic check  Mailed check    Mailed check   \n",
       "MonthlyCharges               29.85         56.95           53.85   \n",
       "TotalCharges                 29.85        1889.5          108.15   \n",
       "Churn                           No            No             Yes   \n",
       "\n",
       "                                          3                 4  \n",
       "customerID                       7795-CFOCW        9237-HQITU  \n",
       "gender                                 Male            Female  \n",
       "SeniorCitizen                             0                 0  \n",
       "Partner                                  No                No  \n",
       "Dependents                               No                No  \n",
       "tenure                                   45                 2  \n",
       "PhoneService                             No               Yes  \n",
       "MultipleLines              No phone service                No  \n",
       "InternetService                         DSL       Fiber optic  \n",
       "OnlineSecurity                          Yes                No  \n",
       "OnlineBackup                             No                No  \n",
       "DeviceProtection                        Yes                No  \n",
       "TechSupport                             Yes                No  \n",
       "StreamingTV                              No                No  \n",
       "StreamingMovies                          No                No  \n",
       "Contract                           One year    Month-to-month  \n",
       "PaperlessBilling                         No               Yes  \n",
       "PaymentMethod     Bank transfer (automatic)  Electronic check  \n",
       "MonthlyCharges                         42.3              70.7  \n",
       "TotalCharges                        1840.75            151.65  \n",
       "Churn                                    No               Yes  "
      ]
     },
     "execution_count": 7,
     "metadata": {},
     "output_type": "execute_result"
    }
   ],
   "source": [
    "df.head().T"
   ]
  },
  {
   "cell_type": "code",
   "execution_count": 8,
   "id": "15bfb0f4",
   "metadata": {},
   "outputs": [
    {
     "name": "stdout",
     "output_type": "stream",
     "text": [
      "<class 'pandas.core.frame.DataFrame'>\n",
      "RangeIndex: 7043 entries, 0 to 7042\n",
      "Data columns (total 21 columns):\n",
      " #   Column            Non-Null Count  Dtype  \n",
      "---  ------            --------------  -----  \n",
      " 0   customerID        7043 non-null   object \n",
      " 1   gender            7043 non-null   object \n",
      " 2   SeniorCitizen     7043 non-null   int64  \n",
      " 3   Partner           7043 non-null   object \n",
      " 4   Dependents        7043 non-null   object \n",
      " 5   tenure            7043 non-null   int64  \n",
      " 6   PhoneService      7043 non-null   object \n",
      " 7   MultipleLines     7043 non-null   object \n",
      " 8   InternetService   7043 non-null   object \n",
      " 9   OnlineSecurity    7043 non-null   object \n",
      " 10  OnlineBackup      7043 non-null   object \n",
      " 11  DeviceProtection  7043 non-null   object \n",
      " 12  TechSupport       7043 non-null   object \n",
      " 13  StreamingTV       7043 non-null   object \n",
      " 14  StreamingMovies   7043 non-null   object \n",
      " 15  Contract          7043 non-null   object \n",
      " 16  PaperlessBilling  7043 non-null   object \n",
      " 17  PaymentMethod     7043 non-null   object \n",
      " 18  MonthlyCharges    7043 non-null   float64\n",
      " 19  TotalCharges      7043 non-null   object \n",
      " 20  Churn             7043 non-null   object \n",
      "dtypes: float64(1), int64(2), object(18)\n",
      "memory usage: 1.1+ MB\n"
     ]
    }
   ],
   "source": [
    "df.info()"
   ]
  },
  {
   "cell_type": "markdown",
   "id": "0275ebce",
   "metadata": {},
   "source": [
    "- `TotalCharges` is an object (text) and need to change to a number.\n",
    "- `Churn` is the dependent variable and an object; however, in machine learning, we are not interested in yes/no, we are interested in the numbers."
   ]
  },
  {
   "cell_type": "markdown",
   "id": "9564b298",
   "metadata": {},
   "source": [
    "# Data Preparation"
   ]
  },
  {
   "cell_type": "markdown",
   "id": "5a966058",
   "metadata": {},
   "source": [
    "## Column Names"
   ]
  },
  {
   "cell_type": "code",
   "execution_count": 9,
   "id": "924ee1c1",
   "metadata": {},
   "outputs": [],
   "source": [
    "df.columns = df.columns.str.lower()"
   ]
  },
  {
   "cell_type": "code",
   "execution_count": 10,
   "id": "48a6cf3a",
   "metadata": {},
   "outputs": [
    {
     "data": {
      "text/plain": [
       "Index(['customerid', 'gender', 'seniorcitizen', 'partner', 'dependents',\n",
       "       'tenure', 'phoneservice', 'multiplelines', 'internetservice',\n",
       "       'onlinesecurity', 'onlinebackup', 'deviceprotection', 'techsupport',\n",
       "       'streamingtv', 'streamingmovies', 'contract', 'paperlessbilling',\n",
       "       'paymentmethod', 'monthlycharges', 'totalcharges', 'churn'],\n",
       "      dtype='object')"
      ]
     },
     "execution_count": 10,
     "metadata": {},
     "output_type": "execute_result"
    }
   ],
   "source": [
    "df.columns"
   ]
  },
  {
   "cell_type": "markdown",
   "id": "df3c0e71",
   "metadata": {},
   "source": [
    "## Categorical Variables"
   ]
  },
  {
   "cell_type": "code",
   "execution_count": 11,
   "id": "eca509a7",
   "metadata": {},
   "outputs": [],
   "source": [
    "categorical_columns = df.dtypes[df.dtypes == 'object'].index"
   ]
  },
  {
   "cell_type": "code",
   "execution_count": 12,
   "id": "2845411c",
   "metadata": {},
   "outputs": [],
   "source": [
    "for c in categorical_columns:\n",
    "    df[c] = df[c].str.lower().str.replace(' ', '_')"
   ]
  },
  {
   "cell_type": "markdown",
   "id": "710d9d3e",
   "metadata": {},
   "source": [
    "`TotalCharges` is an object (text) and need to change to a number."
   ]
  },
  {
   "cell_type": "code",
   "execution_count": 13,
   "id": "ee175a59",
   "metadata": {},
   "outputs": [],
   "source": [
    "df['totalcharges'] = pd.to_numeric(df['totalcharges'], errors='coerce') # If 'coerce', then invalid parsing will be set as NaN."
   ]
  },
  {
   "cell_type": "markdown",
   "id": "0ea7eede",
   "metadata": {},
   "source": [
    "## Dependent Variable"
   ]
  },
  {
   "cell_type": "markdown",
   "id": "5bc5e60c",
   "metadata": {},
   "source": [
    "`Churn` is the dependent variable and an object; however, in machine learning, we are not interested in yes/no, we are interested in the numbers."
   ]
  },
  {
   "cell_type": "code",
   "execution_count": 14,
   "id": "37643045",
   "metadata": {},
   "outputs": [],
   "source": [
    "df['churn'] = (df['churn'] == 'yes').astype(int)"
   ]
  },
  {
   "cell_type": "code",
   "execution_count": 15,
   "id": "2e198330",
   "metadata": {},
   "outputs": [
    {
     "name": "stdout",
     "output_type": "stream",
     "text": [
      "<class 'pandas.core.frame.DataFrame'>\n",
      "RangeIndex: 7043 entries, 0 to 7042\n",
      "Data columns (total 21 columns):\n",
      " #   Column            Non-Null Count  Dtype  \n",
      "---  ------            --------------  -----  \n",
      " 0   customerid        7043 non-null   object \n",
      " 1   gender            7043 non-null   object \n",
      " 2   seniorcitizen     7043 non-null   int64  \n",
      " 3   partner           7043 non-null   object \n",
      " 4   dependents        7043 non-null   object \n",
      " 5   tenure            7043 non-null   int64  \n",
      " 6   phoneservice      7043 non-null   object \n",
      " 7   multiplelines     7043 non-null   object \n",
      " 8   internetservice   7043 non-null   object \n",
      " 9   onlinesecurity    7043 non-null   object \n",
      " 10  onlinebackup      7043 non-null   object \n",
      " 11  deviceprotection  7043 non-null   object \n",
      " 12  techsupport       7043 non-null   object \n",
      " 13  streamingtv       7043 non-null   object \n",
      " 14  streamingmovies   7043 non-null   object \n",
      " 15  contract          7043 non-null   object \n",
      " 16  paperlessbilling  7043 non-null   object \n",
      " 17  paymentmethod     7043 non-null   object \n",
      " 18  monthlycharges    7043 non-null   float64\n",
      " 19  totalcharges      7032 non-null   float64\n",
      " 20  churn             7043 non-null   int64  \n",
      "dtypes: float64(2), int64(3), object(16)\n",
      "memory usage: 1.1+ MB\n"
     ]
    }
   ],
   "source": [
    "df.info()"
   ]
  },
  {
   "cell_type": "markdown",
   "id": "726bc7e9",
   "metadata": {},
   "source": [
    "# Setting Up the Validation Framework"
   ]
  },
  {
   "cell_type": "code",
   "execution_count": 16,
   "id": "8270f2bf",
   "metadata": {},
   "outputs": [],
   "source": [
    "from sklearn.model_selection import train_test_split"
   ]
  },
  {
   "cell_type": "code",
   "execution_count": 17,
   "id": "66f459b5",
   "metadata": {},
   "outputs": [],
   "source": [
    "df_full_train, df_test = train_test_split(df, test_size=0.2, random_state=42)"
   ]
  },
  {
   "cell_type": "code",
   "execution_count": 18,
   "id": "cfbc483f",
   "metadata": {},
   "outputs": [],
   "source": [
    "df_full_train = df_full_train.reset_index(drop=True)"
   ]
  },
  {
   "cell_type": "code",
   "execution_count": 19,
   "id": "e191d8f3",
   "metadata": {},
   "outputs": [],
   "source": [
    "y_full_train = df_full_train['churn']"
   ]
  },
  {
   "cell_type": "code",
   "execution_count": 20,
   "id": "ba453632",
   "metadata": {},
   "outputs": [],
   "source": [
    "X_full_train = df_full_train.copy()\n",
    "del X_full_train['churn']"
   ]
  },
  {
   "cell_type": "markdown",
   "id": "fbe78d14",
   "metadata": {},
   "source": [
    "# Exploratory Data Analysis & Data Preprocessing"
   ]
  },
  {
   "cell_type": "code",
   "execution_count": 21,
   "id": "125d3e18",
   "metadata": {},
   "outputs": [
    {
     "name": "stdout",
     "output_type": "stream",
     "text": [
      "<class 'pandas.core.frame.DataFrame'>\n",
      "RangeIndex: 5634 entries, 0 to 5633\n",
      "Data columns (total 21 columns):\n",
      " #   Column            Non-Null Count  Dtype  \n",
      "---  ------            --------------  -----  \n",
      " 0   customerid        5634 non-null   object \n",
      " 1   gender            5634 non-null   object \n",
      " 2   seniorcitizen     5634 non-null   int64  \n",
      " 3   partner           5634 non-null   object \n",
      " 4   dependents        5634 non-null   object \n",
      " 5   tenure            5634 non-null   int64  \n",
      " 6   phoneservice      5634 non-null   object \n",
      " 7   multiplelines     5634 non-null   object \n",
      " 8   internetservice   5634 non-null   object \n",
      " 9   onlinesecurity    5634 non-null   object \n",
      " 10  onlinebackup      5634 non-null   object \n",
      " 11  deviceprotection  5634 non-null   object \n",
      " 12  techsupport       5634 non-null   object \n",
      " 13  streamingtv       5634 non-null   object \n",
      " 14  streamingmovies   5634 non-null   object \n",
      " 15  contract          5634 non-null   object \n",
      " 16  paperlessbilling  5634 non-null   object \n",
      " 17  paymentmethod     5634 non-null   object \n",
      " 18  monthlycharges    5634 non-null   float64\n",
      " 19  totalcharges      5624 non-null   float64\n",
      " 20  churn             5634 non-null   int64  \n",
      "dtypes: float64(2), int64(3), object(16)\n",
      "memory usage: 924.5+ KB\n"
     ]
    }
   ],
   "source": [
    "df_full_train.info()"
   ]
  },
  {
   "cell_type": "code",
   "execution_count": 22,
   "id": "ef3d97b6",
   "metadata": {},
   "outputs": [],
   "source": [
    "numerical = ['tenure', 'monthlycharges', 'totalcharges']"
   ]
  },
  {
   "cell_type": "code",
   "execution_count": 23,
   "id": "6e550ac5",
   "metadata": {},
   "outputs": [
    {
     "data": {
      "text/plain": [
       "Index(['customerid', 'gender', 'seniorcitizen', 'partner', 'dependents',\n",
       "       'tenure', 'phoneservice', 'multiplelines', 'internetservice',\n",
       "       'onlinesecurity', 'onlinebackup', 'deviceprotection', 'techsupport',\n",
       "       'streamingtv', 'streamingmovies', 'contract', 'paperlessbilling',\n",
       "       'paymentmethod', 'monthlycharges', 'totalcharges', 'churn'],\n",
       "      dtype='object')"
      ]
     },
     "execution_count": 23,
     "metadata": {},
     "output_type": "execute_result"
    }
   ],
   "source": [
    "df_full_train.columns"
   ]
  },
  {
   "cell_type": "code",
   "execution_count": 24,
   "id": "bd8fede4",
   "metadata": {},
   "outputs": [],
   "source": [
    "categorical = ['gender', 'seniorcitizen', 'partner', 'dependents',\n",
    "       'phoneservice', 'multiplelines', 'internetservice',\n",
    "       'onlinesecurity', 'onlinebackup', 'deviceprotection', 'techsupport',\n",
    "       'streamingtv', 'streamingmovies', 'contract', 'paperlessbilling',\n",
    "       'paymentmethod']"
   ]
  },
  {
   "cell_type": "markdown",
   "id": "5d9a40ac",
   "metadata": {},
   "source": [
    "## Data Cleaning "
   ]
  },
  {
   "cell_type": "markdown",
   "id": "82cf0f75",
   "metadata": {},
   "source": [
    "### Outliers"
   ]
  },
  {
   "cell_type": "code",
   "execution_count": 25,
   "id": "8446c162",
   "metadata": {},
   "outputs": [
    {
     "data": {
      "text/html": [
       "<div>\n",
       "<style scoped>\n",
       "    .dataframe tbody tr th:only-of-type {\n",
       "        vertical-align: middle;\n",
       "    }\n",
       "\n",
       "    .dataframe tbody tr th {\n",
       "        vertical-align: top;\n",
       "    }\n",
       "\n",
       "    .dataframe thead th {\n",
       "        text-align: right;\n",
       "    }\n",
       "</style>\n",
       "<table border=\"1\" class=\"dataframe\">\n",
       "  <thead>\n",
       "    <tr style=\"text-align: right;\">\n",
       "      <th></th>\n",
       "      <th>seniorcitizen</th>\n",
       "      <th>tenure</th>\n",
       "      <th>monthlycharges</th>\n",
       "      <th>totalcharges</th>\n",
       "      <th>churn</th>\n",
       "    </tr>\n",
       "  </thead>\n",
       "  <tbody>\n",
       "    <tr>\n",
       "      <th>count</th>\n",
       "      <td>7043.000000</td>\n",
       "      <td>7043.000000</td>\n",
       "      <td>7043.000000</td>\n",
       "      <td>7032.000000</td>\n",
       "      <td>7043.000000</td>\n",
       "    </tr>\n",
       "    <tr>\n",
       "      <th>mean</th>\n",
       "      <td>0.162147</td>\n",
       "      <td>32.371149</td>\n",
       "      <td>64.761692</td>\n",
       "      <td>2283.300441</td>\n",
       "      <td>0.265370</td>\n",
       "    </tr>\n",
       "    <tr>\n",
       "      <th>std</th>\n",
       "      <td>0.368612</td>\n",
       "      <td>24.559481</td>\n",
       "      <td>30.090047</td>\n",
       "      <td>2266.771362</td>\n",
       "      <td>0.441561</td>\n",
       "    </tr>\n",
       "    <tr>\n",
       "      <th>min</th>\n",
       "      <td>0.000000</td>\n",
       "      <td>0.000000</td>\n",
       "      <td>18.250000</td>\n",
       "      <td>18.800000</td>\n",
       "      <td>0.000000</td>\n",
       "    </tr>\n",
       "    <tr>\n",
       "      <th>25%</th>\n",
       "      <td>0.000000</td>\n",
       "      <td>9.000000</td>\n",
       "      <td>35.500000</td>\n",
       "      <td>401.450000</td>\n",
       "      <td>0.000000</td>\n",
       "    </tr>\n",
       "    <tr>\n",
       "      <th>50%</th>\n",
       "      <td>0.000000</td>\n",
       "      <td>29.000000</td>\n",
       "      <td>70.350000</td>\n",
       "      <td>1397.475000</td>\n",
       "      <td>0.000000</td>\n",
       "    </tr>\n",
       "    <tr>\n",
       "      <th>75%</th>\n",
       "      <td>0.000000</td>\n",
       "      <td>55.000000</td>\n",
       "      <td>89.850000</td>\n",
       "      <td>3794.737500</td>\n",
       "      <td>1.000000</td>\n",
       "    </tr>\n",
       "    <tr>\n",
       "      <th>max</th>\n",
       "      <td>1.000000</td>\n",
       "      <td>72.000000</td>\n",
       "      <td>118.750000</td>\n",
       "      <td>8684.800000</td>\n",
       "      <td>1.000000</td>\n",
       "    </tr>\n",
       "  </tbody>\n",
       "</table>\n",
       "</div>"
      ],
      "text/plain": [
       "       seniorcitizen       tenure  monthlycharges  totalcharges        churn\n",
       "count    7043.000000  7043.000000     7043.000000   7032.000000  7043.000000\n",
       "mean        0.162147    32.371149       64.761692   2283.300441     0.265370\n",
       "std         0.368612    24.559481       30.090047   2266.771362     0.441561\n",
       "min         0.000000     0.000000       18.250000     18.800000     0.000000\n",
       "25%         0.000000     9.000000       35.500000    401.450000     0.000000\n",
       "50%         0.000000    29.000000       70.350000   1397.475000     0.000000\n",
       "75%         0.000000    55.000000       89.850000   3794.737500     1.000000\n",
       "max         1.000000    72.000000      118.750000   8684.800000     1.000000"
      ]
     },
     "execution_count": 25,
     "metadata": {},
     "output_type": "execute_result"
    }
   ],
   "source": [
    "df.describe()"
   ]
  },
  {
   "cell_type": "code",
   "execution_count": 26,
   "id": "227d9b47",
   "metadata": {},
   "outputs": [
    {
     "data": {
      "image/png": "[encoded data removed]",
      "text/plain": [
       "<Figure size 648x864 with 6 Axes>"
      ]
     },
     "metadata": {
      "needs_background": "light"
     },
     "output_type": "display_data"
    }
   ],
   "source": [
    "fig, axs = plt.subplots(len(numerical), 2, figsize=(9, len(numerical)*4))\n",
    "\n",
    "for i in range(len(numerical)):\n",
    "    sns.histplot(df_full_train[numerical[i]], ax=axs[i, 0])\n",
    "    axs[i, 1].boxplot(df_full_train[numerical[i]], vert=False)"
   ]
  },
  {
   "cell_type": "markdown",
   "id": "96cd0415",
   "metadata": {},
   "source": [
    "### Missing Values"
   ]
  },
  {
   "cell_type": "code",
   "execution_count": 27,
   "id": "ba8df744",
   "metadata": {},
   "outputs": [
    {
     "data": {
      "text/plain": [
       "<AxesSubplot:>"
      ]
     },
     "execution_count": 27,
     "metadata": {},
     "output_type": "execute_result"
    },
    {
     "data": {
      "image/png": "[encoded data removed]",
      "text/plain": [
       "<Figure size 432x288 with 2 Axes>"
      ]
     },
     "metadata": {
      "needs_background": "light"
     },
     "output_type": "display_data"
    }
   ],
   "source": [
    "sns.heatmap(df_full_train.isnull(), cmap='viridis')"
   ]
  },
  {
   "cell_type": "code",
   "execution_count": 28,
   "id": "f8778ef3",
   "metadata": {},
   "outputs": [
    {
     "data": {
      "text/plain": [
       "customerid           0\n",
       "gender               0\n",
       "seniorcitizen        0\n",
       "partner              0\n",
       "dependents           0\n",
       "tenure               0\n",
       "phoneservice         0\n",
       "multiplelines        0\n",
       "internetservice      0\n",
       "onlinesecurity       0\n",
       "onlinebackup         0\n",
       "deviceprotection     0\n",
       "techsupport          0\n",
       "streamingtv          0\n",
       "streamingmovies      0\n",
       "contract             0\n",
       "paperlessbilling     0\n",
       "paymentmethod        0\n",
       "monthlycharges       0\n",
       "totalcharges        10\n",
       "churn                0\n",
       "dtype: int64"
      ]
     },
     "execution_count": 28,
     "metadata": {},
     "output_type": "execute_result"
    }
   ],
   "source": [
    "# get the number of missing data points per column\n",
    "missing_values_count = df_full_train.isnull().sum()\n",
    "missing_values_count"
   ]
  },
  {
   "cell_type": "code",
   "execution_count": 29,
   "id": "fa5d33ac",
   "metadata": {},
   "outputs": [],
   "source": [
    "# how many total missing values do we have?\n",
    "total_cells = np.product(df_full_train.shape)\n",
    "total_missing = missing_values_count.sum()"
   ]
  },
  {
   "cell_type": "code",
   "execution_count": 30,
   "id": "25d6d86e",
   "metadata": {},
   "outputs": [
    {
     "data": {
      "text/plain": [
       "0.008452085129401423"
      ]
     },
     "execution_count": 30,
     "metadata": {},
     "output_type": "execute_result"
    }
   ],
   "source": [
    "# percent of data that is missing\n",
    "percent_missing = (total_missing / total_cells) * 100\n",
    "percent_missing"
   ]
  },
  {
   "cell_type": "code",
   "execution_count": 31,
   "id": "1aff1c60",
   "metadata": {},
   "outputs": [],
   "source": [
    "df_full_train['totalcharges'].fillna(df_full_train['totalcharges'].mean(), inplace=True)"
   ]
  },
  {
   "cell_type": "code",
   "execution_count": 32,
   "id": "254d16ac",
   "metadata": {},
   "outputs": [
    {
     "data": {
      "text/plain": [
       "<AxesSubplot:>"
      ]
     },
     "execution_count": 32,
     "metadata": {},
     "output_type": "execute_result"
    },
    {
     "data": {
      "image/png": "[encoded data removed]",
      "text/plain": [
       "<Figure size 432x288 with 2 Axes>"
      ]
     },
     "metadata": {
      "needs_background": "light"
     },
     "output_type": "display_data"
    }
   ],
   "source": [
    "sns.heatmap(df_full_train.isnull(), cmap='viridis')"
   ]
  },
  {
   "cell_type": "code",
   "execution_count": 33,
   "id": "7dad8419",
   "metadata": {},
   "outputs": [
    {
     "data": {
      "text/plain": [
       "customerid          0\n",
       "gender              0\n",
       "seniorcitizen       0\n",
       "partner             0\n",
       "dependents          0\n",
       "tenure              0\n",
       "phoneservice        0\n",
       "multiplelines       0\n",
       "internetservice     0\n",
       "onlinesecurity      0\n",
       "onlinebackup        0\n",
       "deviceprotection    0\n",
       "techsupport         0\n",
       "streamingtv         0\n",
       "streamingmovies     0\n",
       "contract            0\n",
       "paperlessbilling    0\n",
       "paymentmethod       0\n",
       "monthlycharges      0\n",
       "totalcharges        0\n",
       "churn               0\n",
       "dtype: int64"
      ]
     },
     "execution_count": 33,
     "metadata": {},
     "output_type": "execute_result"
    }
   ],
   "source": [
    "df_full_train.isnull().sum()"
   ]
  },
  {
   "cell_type": "markdown",
   "id": "4e634225",
   "metadata": {},
   "source": [
    "### Duplicate Values"
   ]
  },
  {
   "cell_type": "code",
   "execution_count": 34,
   "id": "4daa8f36",
   "metadata": {},
   "outputs": [
    {
     "data": {
      "text/plain": [
       "0"
      ]
     },
     "execution_count": 34,
     "metadata": {},
     "output_type": "execute_result"
    }
   ],
   "source": [
    "df_full_train.duplicated().sum()"
   ]
  },
  {
   "cell_type": "markdown",
   "id": "49a7ff31",
   "metadata": {},
   "source": [
    "## Data Reduction (Feature Selection)"
   ]
  },
  {
   "cell_type": "markdown",
   "id": "336f8e27",
   "metadata": {},
   "source": [
    "### Low variance filter"
   ]
  },
  {
   "cell_type": "code",
   "execution_count": 35,
   "id": "6ec93253",
   "metadata": {
    "scrolled": false
   },
   "outputs": [
    {
     "data": {
      "image/png": "[encoded data removed]",
      "text/plain": [
       "<Figure size 864x1728 with 18 Axes>"
      ]
     },
     "metadata": {
      "needs_background": "light"
     },
     "output_type": "display_data"
    }
   ],
   "source": [
    "rows = int(len(categorical) / 3) + 1\n",
    "fig, axs = plt.subplots(rows, 3, layout=\"tight\", figsize=(12, rows*4))\n",
    "counter = 0\n",
    "for ax in axs.flat:\n",
    "    if counter < len(categorical):\n",
    "        sns.countplot(data=df_full_train, x=categorical[counter], ax=ax)\n",
    "        counter += 1\n",
    "    else:\n",
    "        break\n",
    "plt.tight_layout()"
   ]
  },
  {
   "cell_type": "markdown",
   "id": "df2af4a1",
   "metadata": {},
   "source": [
    "### High correlation filter"
   ]
  },
  {
   "cell_type": "code",
   "execution_count": 36,
   "id": "083510a7",
   "metadata": {
    "scrolled": true
   },
   "outputs": [
    {
     "data": {
      "text/plain": [
       "tenure           -0.344925\n",
       "monthlycharges    0.188574\n",
       "totalcharges     -0.194627\n",
       "dtype: float64"
      ]
     },
     "execution_count": 36,
     "metadata": {},
     "output_type": "execute_result"
    }
   ],
   "source": [
    "df_full_train[numerical].corrwith(df_full_train['churn'])"
   ]
  },
  {
   "cell_type": "markdown",
   "id": "5e021468",
   "metadata": {},
   "source": [
    "## Data Transformation"
   ]
  },
  {
   "cell_type": "markdown",
   "id": "5530362d",
   "metadata": {},
   "source": [
    "### Feature Engineering"
   ]
  },
  {
   "cell_type": "markdown",
   "id": "26756184",
   "metadata": {},
   "source": [
    "#### Decompose Features"
   ]
  },
  {
   "cell_type": "code",
   "execution_count": 37,
   "id": "9b5f375e",
   "metadata": {},
   "outputs": [],
   "source": [
    "from sklearn.preprocessing import OneHotEncoder"
   ]
  },
  {
   "cell_type": "code",
   "execution_count": 38,
   "id": "25e4d814",
   "metadata": {},
   "outputs": [],
   "source": [
    "enc = OneHotEncoder(drop='first', sparse=False)"
   ]
  },
  {
   "cell_type": "code",
   "execution_count": 39,
   "id": "32be2074",
   "metadata": {},
   "outputs": [
    {
     "data": {
      "text/plain": [
       "OneHotEncoder(drop='first', sparse=False)"
      ]
     },
     "execution_count": 39,
     "metadata": {},
     "output_type": "execute_result"
    }
   ],
   "source": [
    "enc.fit(X_full_train[categorical])"
   ]
  },
  {
   "cell_type": "code",
   "execution_count": 40,
   "id": "88df8b82",
   "metadata": {},
   "outputs": [],
   "source": [
    "X_enc = pd.DataFrame(enc.transform(X_full_train[categorical]), columns=enc.get_feature_names_out())"
   ]
  },
  {
   "cell_type": "code",
   "execution_count": 41,
   "id": "454cd23f",
   "metadata": {},
   "outputs": [],
   "source": [
    "X_full_train.drop(columns=categorical, inplace=True)"
   ]
  },
  {
   "cell_type": "code",
   "execution_count": 42,
   "id": "768c6afa",
   "metadata": {},
   "outputs": [],
   "source": [
    "X_full_train = X_full_train.join(X_enc, how='inner')"
   ]
  },
  {
   "cell_type": "code",
   "execution_count": 44,
   "id": "e01de37f",
   "metadata": {},
   "outputs": [
    {
     "data": {
      "text/html": [
       "<div>\n",
       "<style scoped>\n",
       "    .dataframe tbody tr th:only-of-type {\n",
       "        vertical-align: middle;\n",
       "    }\n",
       "\n",
       "    .dataframe tbody tr th {\n",
       "        vertical-align: top;\n",
       "    }\n",
       "\n",
       "    .dataframe thead th {\n",
       "        text-align: right;\n",
       "    }\n",
       "</style>\n",
       "<table border=\"1\" class=\"dataframe\">\n",
       "  <thead>\n",
       "    <tr style=\"text-align: right;\">\n",
       "      <th></th>\n",
       "      <th>customerid</th>\n",
       "      <th>tenure</th>\n",
       "      <th>monthlycharges</th>\n",
       "      <th>totalcharges</th>\n",
       "      <th>gender_male</th>\n",
       "      <th>seniorcitizen_1</th>\n",
       "      <th>partner_yes</th>\n",
       "      <th>dependents_yes</th>\n",
       "      <th>phoneservice_yes</th>\n",
       "      <th>multiplelines_no_phone_service</th>\n",
       "      <th>...</th>\n",
       "      <th>streamingtv_no_internet_service</th>\n",
       "      <th>streamingtv_yes</th>\n",
       "      <th>streamingmovies_no_internet_service</th>\n",
       "      <th>streamingmovies_yes</th>\n",
       "      <th>contract_one_year</th>\n",
       "      <th>contract_two_year</th>\n",
       "      <th>paperlessbilling_yes</th>\n",
       "      <th>paymentmethod_credit_card_(automatic)</th>\n",
       "      <th>paymentmethod_electronic_check</th>\n",
       "      <th>paymentmethod_mailed_check</th>\n",
       "    </tr>\n",
       "  </thead>\n",
       "  <tbody>\n",
       "    <tr>\n",
       "      <th>0</th>\n",
       "      <td>4223-bkeor</td>\n",
       "      <td>21</td>\n",
       "      <td>64.85</td>\n",
       "      <td>1336.80</td>\n",
       "      <td>0.0</td>\n",
       "      <td>0.0</td>\n",
       "      <td>0.0</td>\n",
       "      <td>1.0</td>\n",
       "      <td>1.0</td>\n",
       "      <td>0.0</td>\n",
       "      <td>...</td>\n",
       "      <td>0.0</td>\n",
       "      <td>0.0</td>\n",
       "      <td>0.0</td>\n",
       "      <td>1.0</td>\n",
       "      <td>1.0</td>\n",
       "      <td>0.0</td>\n",
       "      <td>0.0</td>\n",
       "      <td>0.0</td>\n",
       "      <td>0.0</td>\n",
       "      <td>1.0</td>\n",
       "    </tr>\n",
       "    <tr>\n",
       "      <th>1</th>\n",
       "      <td>6035-riiom</td>\n",
       "      <td>54</td>\n",
       "      <td>97.20</td>\n",
       "      <td>5129.45</td>\n",
       "      <td>0.0</td>\n",
       "      <td>0.0</td>\n",
       "      <td>0.0</td>\n",
       "      <td>0.0</td>\n",
       "      <td>1.0</td>\n",
       "      <td>0.0</td>\n",
       "      <td>...</td>\n",
       "      <td>0.0</td>\n",
       "      <td>1.0</td>\n",
       "      <td>0.0</td>\n",
       "      <td>1.0</td>\n",
       "      <td>0.0</td>\n",
       "      <td>1.0</td>\n",
       "      <td>1.0</td>\n",
       "      <td>0.0</td>\n",
       "      <td>0.0</td>\n",
       "      <td>0.0</td>\n",
       "    </tr>\n",
       "    <tr>\n",
       "      <th>2</th>\n",
       "      <td>3797-vtidr</td>\n",
       "      <td>1</td>\n",
       "      <td>23.45</td>\n",
       "      <td>23.45</td>\n",
       "      <td>1.0</td>\n",
       "      <td>0.0</td>\n",
       "      <td>1.0</td>\n",
       "      <td>0.0</td>\n",
       "      <td>0.0</td>\n",
       "      <td>1.0</td>\n",
       "      <td>...</td>\n",
       "      <td>0.0</td>\n",
       "      <td>0.0</td>\n",
       "      <td>0.0</td>\n",
       "      <td>0.0</td>\n",
       "      <td>0.0</td>\n",
       "      <td>0.0</td>\n",
       "      <td>1.0</td>\n",
       "      <td>0.0</td>\n",
       "      <td>1.0</td>\n",
       "      <td>0.0</td>\n",
       "    </tr>\n",
       "    <tr>\n",
       "      <th>3</th>\n",
       "      <td>2568-brgyx</td>\n",
       "      <td>4</td>\n",
       "      <td>70.20</td>\n",
       "      <td>237.95</td>\n",
       "      <td>1.0</td>\n",
       "      <td>0.0</td>\n",
       "      <td>0.0</td>\n",
       "      <td>0.0</td>\n",
       "      <td>1.0</td>\n",
       "      <td>0.0</td>\n",
       "      <td>...</td>\n",
       "      <td>0.0</td>\n",
       "      <td>0.0</td>\n",
       "      <td>0.0</td>\n",
       "      <td>0.0</td>\n",
       "      <td>0.0</td>\n",
       "      <td>0.0</td>\n",
       "      <td>1.0</td>\n",
       "      <td>0.0</td>\n",
       "      <td>1.0</td>\n",
       "      <td>0.0</td>\n",
       "    </tr>\n",
       "    <tr>\n",
       "      <th>4</th>\n",
       "      <td>2775-sefee</td>\n",
       "      <td>0</td>\n",
       "      <td>61.90</td>\n",
       "      <td>NaN</td>\n",
       "      <td>1.0</td>\n",
       "      <td>0.0</td>\n",
       "      <td>0.0</td>\n",
       "      <td>1.0</td>\n",
       "      <td>1.0</td>\n",
       "      <td>0.0</td>\n",
       "      <td>...</td>\n",
       "      <td>0.0</td>\n",
       "      <td>0.0</td>\n",
       "      <td>0.0</td>\n",
       "      <td>0.0</td>\n",
       "      <td>0.0</td>\n",
       "      <td>1.0</td>\n",
       "      <td>1.0</td>\n",
       "      <td>0.0</td>\n",
       "      <td>0.0</td>\n",
       "      <td>0.0</td>\n",
       "    </tr>\n",
       "    <tr>\n",
       "      <th>...</th>\n",
       "      <td>...</td>\n",
       "      <td>...</td>\n",
       "      <td>...</td>\n",
       "      <td>...</td>\n",
       "      <td>...</td>\n",
       "      <td>...</td>\n",
       "      <td>...</td>\n",
       "      <td>...</td>\n",
       "      <td>...</td>\n",
       "      <td>...</td>\n",
       "      <td>...</td>\n",
       "      <td>...</td>\n",
       "      <td>...</td>\n",
       "      <td>...</td>\n",
       "      <td>...</td>\n",
       "      <td>...</td>\n",
       "      <td>...</td>\n",
       "      <td>...</td>\n",
       "      <td>...</td>\n",
       "      <td>...</td>\n",
       "      <td>...</td>\n",
       "    </tr>\n",
       "    <tr>\n",
       "      <th>5629</th>\n",
       "      <td>0684-aosih</td>\n",
       "      <td>1</td>\n",
       "      <td>95.00</td>\n",
       "      <td>95.00</td>\n",
       "      <td>1.0</td>\n",
       "      <td>0.0</td>\n",
       "      <td>1.0</td>\n",
       "      <td>0.0</td>\n",
       "      <td>1.0</td>\n",
       "      <td>0.0</td>\n",
       "      <td>...</td>\n",
       "      <td>0.0</td>\n",
       "      <td>1.0</td>\n",
       "      <td>0.0</td>\n",
       "      <td>1.0</td>\n",
       "      <td>0.0</td>\n",
       "      <td>0.0</td>\n",
       "      <td>1.0</td>\n",
       "      <td>0.0</td>\n",
       "      <td>1.0</td>\n",
       "      <td>0.0</td>\n",
       "    </tr>\n",
       "    <tr>\n",
       "      <th>5630</th>\n",
       "      <td>5982-psmkw</td>\n",
       "      <td>23</td>\n",
       "      <td>91.10</td>\n",
       "      <td>2198.30</td>\n",
       "      <td>0.0</td>\n",
       "      <td>0.0</td>\n",
       "      <td>1.0</td>\n",
       "      <td>1.0</td>\n",
       "      <td>1.0</td>\n",
       "      <td>0.0</td>\n",
       "      <td>...</td>\n",
       "      <td>0.0</td>\n",
       "      <td>1.0</td>\n",
       "      <td>0.0</td>\n",
       "      <td>1.0</td>\n",
       "      <td>0.0</td>\n",
       "      <td>1.0</td>\n",
       "      <td>1.0</td>\n",
       "      <td>1.0</td>\n",
       "      <td>0.0</td>\n",
       "      <td>0.0</td>\n",
       "    </tr>\n",
       "    <tr>\n",
       "      <th>5631</th>\n",
       "      <td>8044-bgwpi</td>\n",
       "      <td>12</td>\n",
       "      <td>21.15</td>\n",
       "      <td>306.05</td>\n",
       "      <td>1.0</td>\n",
       "      <td>0.0</td>\n",
       "      <td>1.0</td>\n",
       "      <td>1.0</td>\n",
       "      <td>1.0</td>\n",
       "      <td>0.0</td>\n",
       "      <td>...</td>\n",
       "      <td>1.0</td>\n",
       "      <td>0.0</td>\n",
       "      <td>1.0</td>\n",
       "      <td>0.0</td>\n",
       "      <td>0.0</td>\n",
       "      <td>0.0</td>\n",
       "      <td>1.0</td>\n",
       "      <td>0.0</td>\n",
       "      <td>1.0</td>\n",
       "      <td>0.0</td>\n",
       "    </tr>\n",
       "    <tr>\n",
       "      <th>5632</th>\n",
       "      <td>7450-nwrtr</td>\n",
       "      <td>12</td>\n",
       "      <td>99.45</td>\n",
       "      <td>1200.15</td>\n",
       "      <td>1.0</td>\n",
       "      <td>1.0</td>\n",
       "      <td>0.0</td>\n",
       "      <td>0.0</td>\n",
       "      <td>1.0</td>\n",
       "      <td>0.0</td>\n",
       "      <td>...</td>\n",
       "      <td>0.0</td>\n",
       "      <td>1.0</td>\n",
       "      <td>0.0</td>\n",
       "      <td>1.0</td>\n",
       "      <td>0.0</td>\n",
       "      <td>0.0</td>\n",
       "      <td>1.0</td>\n",
       "      <td>0.0</td>\n",
       "      <td>1.0</td>\n",
       "      <td>0.0</td>\n",
       "    </tr>\n",
       "    <tr>\n",
       "      <th>5633</th>\n",
       "      <td>4795-uxvcj</td>\n",
       "      <td>26</td>\n",
       "      <td>19.80</td>\n",
       "      <td>457.30</td>\n",
       "      <td>1.0</td>\n",
       "      <td>0.0</td>\n",
       "      <td>0.0</td>\n",
       "      <td>0.0</td>\n",
       "      <td>1.0</td>\n",
       "      <td>0.0</td>\n",
       "      <td>...</td>\n",
       "      <td>1.0</td>\n",
       "      <td>0.0</td>\n",
       "      <td>1.0</td>\n",
       "      <td>0.0</td>\n",
       "      <td>1.0</td>\n",
       "      <td>0.0</td>\n",
       "      <td>0.0</td>\n",
       "      <td>1.0</td>\n",
       "      <td>0.0</td>\n",
       "      <td>0.0</td>\n",
       "    </tr>\n",
       "  </tbody>\n",
       "</table>\n",
       "<p>5634 rows × 31 columns</p>\n",
       "</div>"
      ],
      "text/plain": [
       "      customerid  tenure  monthlycharges  totalcharges  gender_male  \\\n",
       "0     4223-bkeor      21           64.85       1336.80          0.0   \n",
       "1     6035-riiom      54           97.20       5129.45          0.0   \n",
       "2     3797-vtidr       1           23.45         23.45          1.0   \n",
       "3     2568-brgyx       4           70.20        237.95          1.0   \n",
       "4     2775-sefee       0           61.90           NaN          1.0   \n",
       "...          ...     ...             ...           ...          ...   \n",
       "5629  0684-aosih       1           95.00         95.00          1.0   \n",
       "5630  5982-psmkw      23           91.10       2198.30          0.0   \n",
       "5631  8044-bgwpi      12           21.15        306.05          1.0   \n",
       "5632  7450-nwrtr      12           99.45       1200.15          1.0   \n",
       "5633  4795-uxvcj      26           19.80        457.30          1.0   \n",
       "\n",
       "      seniorcitizen_1  partner_yes  dependents_yes  phoneservice_yes  \\\n",
       "0                 0.0          0.0             1.0               1.0   \n",
       "1                 0.0          0.0             0.0               1.0   \n",
       "2                 0.0          1.0             0.0               0.0   \n",
       "3                 0.0          0.0             0.0               1.0   \n",
       "4                 0.0          0.0             1.0               1.0   \n",
       "...               ...          ...             ...               ...   \n",
       "5629              0.0          1.0             0.0               1.0   \n",
       "5630              0.0          1.0             1.0               1.0   \n",
       "5631              0.0          1.0             1.0               1.0   \n",
       "5632              1.0          0.0             0.0               1.0   \n",
       "5633              0.0          0.0             0.0               1.0   \n",
       "\n",
       "      multiplelines_no_phone_service  ...  streamingtv_no_internet_service  \\\n",
       "0                                0.0  ...                              0.0   \n",
       "1                                0.0  ...                              0.0   \n",
       "2                                1.0  ...                              0.0   \n",
       "3                                0.0  ...                              0.0   \n",
       "4                                0.0  ...                              0.0   \n",
       "...                              ...  ...                              ...   \n",
       "5629                             0.0  ...                              0.0   \n",
       "5630                             0.0  ...                              0.0   \n",
       "5631                             0.0  ...                              1.0   \n",
       "5632                             0.0  ...                              0.0   \n",
       "5633                             0.0  ...                              1.0   \n",
       "\n",
       "      streamingtv_yes  streamingmovies_no_internet_service  \\\n",
       "0                 0.0                                  0.0   \n",
       "1                 1.0                                  0.0   \n",
       "2                 0.0                                  0.0   \n",
       "3                 0.0                                  0.0   \n",
       "4                 0.0                                  0.0   \n",
       "...               ...                                  ...   \n",
       "5629              1.0                                  0.0   \n",
       "5630              1.0                                  0.0   \n",
       "5631              0.0                                  1.0   \n",
       "5632              1.0                                  0.0   \n",
       "5633              0.0                                  1.0   \n",
       "\n",
       "      streamingmovies_yes  contract_one_year  contract_two_year  \\\n",
       "0                     1.0                1.0                0.0   \n",
       "1                     1.0                0.0                1.0   \n",
       "2                     0.0                0.0                0.0   \n",
       "3                     0.0                0.0                0.0   \n",
       "4                     0.0                0.0                1.0   \n",
       "...                   ...                ...                ...   \n",
       "5629                  1.0                0.0                0.0   \n",
       "5630                  1.0                0.0                1.0   \n",
       "5631                  0.0                0.0                0.0   \n",
       "5632                  1.0                0.0                0.0   \n",
       "5633                  0.0                1.0                0.0   \n",
       "\n",
       "      paperlessbilling_yes  paymentmethod_credit_card_(automatic)  \\\n",
       "0                      0.0                                    0.0   \n",
       "1                      1.0                                    0.0   \n",
       "2                      1.0                                    0.0   \n",
       "3                      1.0                                    0.0   \n",
       "4                      1.0                                    0.0   \n",
       "...                    ...                                    ...   \n",
       "5629                   1.0                                    0.0   \n",
       "5630                   1.0                                    1.0   \n",
       "5631                   1.0                                    0.0   \n",
       "5632                   1.0                                    0.0   \n",
       "5633                   0.0                                    1.0   \n",
       "\n",
       "      paymentmethod_electronic_check  paymentmethod_mailed_check  \n",
       "0                                0.0                         1.0  \n",
       "1                                0.0                         0.0  \n",
       "2                                1.0                         0.0  \n",
       "3                                1.0                         0.0  \n",
       "4                                0.0                         0.0  \n",
       "...                              ...                         ...  \n",
       "5629                             1.0                         0.0  \n",
       "5630                             0.0                         0.0  \n",
       "5631                             1.0                         0.0  \n",
       "5632                             1.0                         0.0  \n",
       "5633                             0.0                         0.0  \n",
       "\n",
       "[5634 rows x 31 columns]"
      ]
     },
     "execution_count": 44,
     "metadata": {},
     "output_type": "execute_result"
    }
   ],
   "source": [
    "X_full_train"
   ]
  },
  {
   "cell_type": "markdown",
   "id": "3ddc5d51",
   "metadata": {},
   "source": [
    "### Feature Scaling: Standardization or Normalization"
   ]
  },
  {
   "cell_type": "markdown",
   "id": "0c4255df",
   "metadata": {},
   "source": []
  },
  {
   "cell_type": "markdown",
   "id": "c57548f8",
   "metadata": {},
   "source": []
  },
  {
   "cell_type": "markdown",
   "id": "26c15274",
   "metadata": {},
   "source": []
  },
  {
   "cell_type": "markdown",
   "id": "4510e178",
   "metadata": {},
   "source": []
  },
  {
   "cell_type": "markdown",
   "id": "e5ab6bc3",
   "metadata": {},
   "source": []
  },
  {
   "cell_type": "markdown",
   "id": "6a31111f",
   "metadata": {},
   "source": []
  },
  {
   "cell_type": "markdown",
   "id": "fc80b2de",
   "metadata": {},
   "source": []
  },
  {
   "cell_type": "markdown",
   "id": "4145e505",
   "metadata": {},
   "source": []
  },
  {
   "cell_type": "markdown",
   "id": "2098f363",
   "metadata": {},
   "source": []
  }
 ],
 "metadata": {
  "kernelspec": {
   "display_name": "Python 3 (ipykernel)",
   "language": "python",
   "name": "python3"
  },
  "language_info": {
   "codemirror_mode": {
    "name": "ipython",
    "version": 3
   },
   "file_extension": ".py",
   "mimetype": "text/x-python",
   "name": "python",
   "nbconvert_exporter": "python",
   "pygments_lexer": "ipython3",
   "version": "3.9.7"
  },
  "toc": {
   "base_numbering": 1,
   "nav_menu": {},
   "number_sections": true,
   "sideBar": true,
   "skip_h1_title": false,
   "title_cell": "Table of Contents",
   "title_sidebar": "Contents",
   "toc_cell": false,
   "toc_position": {
    "height": "calc(100% - 180px)",
    "left": "10px",
    "top": "150px",
    "width": "273.188px"
   },
   "toc_section_display": true,
   "toc_window_display": true
  }
 },
 "nbformat": 4,
 "nbformat_minor": 5
}
