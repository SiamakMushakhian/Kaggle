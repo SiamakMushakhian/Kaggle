{
 "cells": [
  {
   "cell_type": "markdown",
   "id": "35222995",
   "metadata": {},
   "source": [
    "# Context "
   ]
  },
  {
   "cell_type": "markdown",
   "id": "e85d5ba8",
   "metadata": {},
   "source": [
    "Learn more about the problem\n",
    "- What is the problem you are going to solve?\n",
    "- What is the dataset?"
   ]
  },
  {
   "cell_type": "markdown",
   "id": "b9427203",
   "metadata": {},
   "source": [
    "# Load Libraries "
   ]
  },
  {
   "cell_type": "markdown",
   "id": "be317035",
   "metadata": {},
   "source": [
    "Load all required libraries that you need to solve this problem. You can update it through time."
   ]
  },
  {
   "cell_type": "raw",
   "id": "c5074ef2",
   "metadata": {},
   "source": [
    "import numpy as np\n",
    "import pandas as pd\n",
    "import seaborn as sns\n",
    "import matplotlib.pyplot as plt\n",
    "from pathlib import Path"
   ]
  },
  {
   "cell_type": "raw",
   "id": "06411edc",
   "metadata": {},
   "source": [
    "%matplotlib inline"
   ]
  },
  {
   "cell_type": "markdown",
   "id": "ffa4807e",
   "metadata": {},
   "source": [
    "# Load Data "
   ]
  },
  {
   "cell_type": "markdown",
   "id": "4d9c9ca1",
   "metadata": {},
   "source": [
    "Read the dataset that you have and save it in a dataframe."
   ]
  },
  {
   "cell_type": "raw",
   "id": "888ad790",
   "metadata": {},
   "source": [
    "current_dir = Path('.').resolve()"
   ]
  },
  {
   "cell_type": "raw",
   "id": "766201b2",
   "metadata": {},
   "source": [
    "file_path = current_dir / 'data/xxx.csv'"
   ]
  },
  {
   "cell_type": "raw",
   "id": "29782ea3",
   "metadata": {},
   "source": [
    "df = pd.read_csv(file_path)"
   ]
  },
  {
   "cell_type": "markdown",
   "id": "29c83ab4",
   "metadata": {},
   "source": [
    "Then, take a look at the data using .head() and .info() to learn more about it.\n",
    "- Data type match\n",
    "- Categorical and numberical variables\n",
    "- Missing values\n",
    "- Dependent variable"
   ]
  },
  {
   "cell_type": "raw",
   "id": "80653b37",
   "metadata": {},
   "source": [
    "df.head()"
   ]
  },
  {
   "cell_type": "raw",
   "id": "ea1219e0",
   "metadata": {},
   "source": [
    "df.info()"
   ]
  },
  {
   "cell_type": "markdown",
   "id": "c09e772d",
   "metadata": {},
   "source": [
    "# Data Preparation"
   ]
  },
  {
   "cell_type": "markdown",
   "id": "030040ad",
   "metadata": {},
   "source": [
    "## Column Names"
   ]
  },
  {
   "cell_type": "markdown",
   "id": "a6638164",
   "metadata": {},
   "source": [
    "Convert all the uppercase characters in the column names to lower characters."
   ]
  },
  {
   "cell_type": "raw",
   "id": "dde45635",
   "metadata": {},
   "source": [
    "df.columns = df.columns.str.lower()"
   ]
  },
  {
   "cell_type": "markdown",
   "id": "c733b97f",
   "metadata": {},
   "source": [
    "## Categorical Variables"
   ]
  },
  {
   "cell_type": "markdown",
   "id": "9a835915",
   "metadata": {},
   "source": [
    "Find the categorical columns and then convert all the uppercase characters of the column values to lowercase characters and also replace the spaces with underlines. "
   ]
  },
  {
   "cell_type": "raw",
   "id": "284a51e3",
   "metadata": {},
   "source": [
    "categorical_columns = df.dtypes[df.dtypes == 'object'].index"
   ]
  },
  {
   "cell_type": "raw",
   "id": "bac85f65",
   "metadata": {},
   "source": [
    "for c in categorical_columns:\n",
    "    df[c] = df[c].str.lower().str.replace(' ', '_')"
   ]
  },
  {
   "cell_type": "markdown",
   "id": "04e47b2a",
   "metadata": {},
   "source": [
    "If there are some columns that are object and need to be changed to numerical values, you can use pd.to_numeric()."
   ]
  },
  {
   "cell_type": "raw",
   "id": "184bbb73",
   "metadata": {},
   "source": [
    "df['x'] = pd.to_numeric(df['x'], errors='coerce') # If 'coerce', then invalid parsing will be set as NaN."
   ]
  },
  {
   "cell_type": "markdown",
   "id": "05f5292f",
   "metadata": {},
   "source": [
    "## Dependent Variable"
   ]
  },
  {
   "cell_type": "markdown",
   "id": "cf1892ca",
   "metadata": {},
   "source": [
    "In machine learning, we are not interested in yes/no, we are interested in the numbers. So, if your dependent variable is object (yes/no), you need to change it to number (0/1)."
   ]
  },
  {
   "cell_type": "raw",
   "id": "989670f8",
   "metadata": {},
   "source": [
    "df['x'] = (df['x'] == 'yes').astype(int)"
   ]
  },
  {
   "cell_type": "markdown",
   "id": "e6f0d240",
   "metadata": {},
   "source": [
    "# Setting Up the Validation Framework"
   ]
  },
  {
   "cell_type": "markdown",
   "id": "4e0d0f42",
   "metadata": {},
   "source": [
    "Sample a test set, put it aside, and never look at it (no data snooping!), but see which type of sampling you need:\n",
    "- Random sampling\n",
    "- Stratified Sampling"
   ]
  },
  {
   "cell_type": "raw",
   "id": "3e506ece",
   "metadata": {},
   "source": [
    "from sklearn.model_selection import train_test_split"
   ]
  },
  {
   "cell_type": "raw",
   "id": "e0ccaa43",
   "metadata": {},
   "source": [
    "df_full_train, df_test = train_test_split(df, test_size=0.2, random_state=42)"
   ]
  },
  {
   "cell_type": "raw",
   "id": "ad62af1f",
   "metadata": {},
   "source": [
    "df_full_train, df_test = train_test_split(df, test_size=0.2, stratify=df['x'], random_state=42)"
   ]
  },
  {
   "cell_type": "markdown",
   "id": "ee944f88",
   "metadata": {},
   "source": [
    "# Exploratory Data Analysis & Data Preprocessing"
   ]
  },
  {
   "cell_type": "markdown",
   "id": "bbd92f47",
   "metadata": {},
   "source": [
    "For **exploratory data analysis**, we will use the **full training dataset**."
   ]
  },
  {
   "cell_type": "raw",
   "id": "4c95f11d",
   "metadata": {},
   "source": [
    "df_full_train = df_full_train.reset_index(drop=True)"
   ]
  },
  {
   "cell_type": "raw",
   "id": "f2c43553",
   "metadata": {},
   "source": [
    "df_full_train.info()"
   ]
  },
  {
   "cell_type": "raw",
   "id": "68bace15",
   "metadata": {},
   "source": [
    "numerical"
   ]
  },
  {
   "cell_type": "raw",
   "id": "96862df0",
   "metadata": {},
   "source": [
    "categorical"
   ]
  },
  {
   "cell_type": "markdown",
   "id": "ead5e379",
   "metadata": {},
   "source": [
    "## Data Cleaning"
   ]
  },
  {
   "cell_type": "markdown",
   "id": "2b7bd87d",
   "metadata": {},
   "source": [
    "https://www.quora.com/During-data-analysis-using-R-what-should-we-care-about-first-the-outliers-or-the-missing-values"
   ]
  },
  {
   "cell_type": "markdown",
   "id": "58511459",
   "metadata": {},
   "source": [
    "### Outliers"
   ]
  },
  {
   "cell_type": "raw",
   "id": "3ca6b004",
   "metadata": {},
   "source": [
    "df.describe()"
   ]
  },
  {
   "cell_type": "markdown",
   "id": "e4c587d2",
   "metadata": {},
   "source": [
    "If there is a big difference between min and 25% or 75% and max which means that our data is skewed or there is an outlier."
   ]
  },
  {
   "cell_type": "markdown",
   "id": "aad33992",
   "metadata": {},
   "source": [
    "https://stackoverflow.com/questions/17725927/boxplots-in-matplotlib-markers-and-outliers\n",
    "\n",
    "https://matplotlib.org/stable/api/_as_gen/matplotlib.pyplot.boxplot.html"
   ]
  },
  {
   "cell_type": "raw",
   "id": "bf8e35f2",
   "metadata": {},
   "source": [
    "fig, axs = plt.subplots(len(numerical), 2, figsize=(9, len(numerical)*4))\n",
    "\n",
    "for i in range(len(numerical)):\n",
    "    sns.histplot(df_full_train[numerical[i]], ax=axs[i, 0])\n",
    "    axs[i, 1].boxplot(df_full_train[numerical[i]], vert=False)"
   ]
  },
  {
   "cell_type": "raw",
   "id": "17be4d43",
   "metadata": {},
   "source": [
    "sns.histplot(df_full_train['x'])"
   ]
  },
  {
   "cell_type": "raw",
   "id": "647a6128",
   "metadata": {},
   "source": [
    "sns.joinplot(x=df_full_train['x'], y=df_full_train['y'])"
   ]
  },
  {
   "cell_type": "markdown",
   "id": "9067b7b4",
   "metadata": {},
   "source": [
    "### Missing Values"
   ]
  },
  {
   "cell_type": "raw",
   "id": "3635079f",
   "metadata": {},
   "source": [
    "sns.heatmap(df_full_train.isnull(), cmap='viridis')"
   ]
  },
  {
   "cell_type": "raw",
   "id": "56a0acb2",
   "metadata": {},
   "source": [
    "# get the number of missing data points per column\n",
    "missing_values_count = df_full_train.isnull().sum()\n",
    "missing_values_count"
   ]
  },
  {
   "cell_type": "raw",
   "id": "5c7c37e9",
   "metadata": {},
   "source": [
    "# how many total missing values do we have?\n",
    "total_cells = np.product(df_full_train.shape)\n",
    "total_missing = missing_values_count.sum()\n",
    "\n",
    "# percent of data that is missing\n",
    "percent_missing = (total_missing / total_cells) * 100\n",
    "percent_missing"
   ]
  },
  {
   "cell_type": "raw",
   "id": "9eb794c5",
   "metadata": {},
   "source": [
    "df_full_train['x'].fillna(df_full_train['x'].mean(), inplace=True)"
   ]
  },
  {
   "cell_type": "markdown",
   "id": "40bb3b94",
   "metadata": {},
   "source": [
    "### Duplicate Values"
   ]
  },
  {
   "cell_type": "raw",
   "id": "90a1e6b8",
   "metadata": {},
   "source": [
    "df_full_train.duplicated().sum()"
   ]
  },
  {
   "cell_type": "markdown",
   "id": "49a7ff31",
   "metadata": {},
   "source": [
    "## Data Reduction (Feature Selection)"
   ]
  },
  {
   "cell_type": "markdown",
   "id": "cd1880a8",
   "metadata": {},
   "source": [
    "### Missing values ratio"
   ]
  },
  {
   "cell_type": "markdown",
   "id": "5d7f6e5c",
   "metadata": {},
   "source": [
    "### Low variance filter"
   ]
  },
  {
   "cell_type": "raw",
   "id": "193a6590",
   "metadata": {},
   "source": [
    "rows = int(len(categorical) / 3) + 1\n",
    "fig, axs = plt.subplots(rows, 3, layout=\"tight\", figsize=(12, rows*4))\n",
    "counter = 0\n",
    "for ax in axs.flat:\n",
    "    if counter < len(categorical):\n",
    "        sns.countplot(data=df_full_train, x=categorical[counter], ax=ax)\n",
    "        counter += 1\n",
    "    else:\n",
    "        break\n",
    "plt.tight_layout()"
   ]
  },
  {
   "cell_type": "markdown",
   "id": "883cfdec",
   "metadata": {},
   "source": [
    "### High correlation filter"
   ]
  },
  {
   "cell_type": "markdown",
   "id": "6bbc0a6c",
   "metadata": {},
   "source": [
    "### Principal Component Analysis (PCA)"
   ]
  },
  {
   "cell_type": "markdown",
   "id": "5e021468",
   "metadata": {},
   "source": [
    "## Data Transformation"
   ]
  },
  {
   "cell_type": "markdown",
   "id": "38df9682",
   "metadata": {},
   "source": [
    "### Feature Engineering"
   ]
  },
  {
   "cell_type": "markdown",
   "id": "3ddc5d51",
   "metadata": {},
   "source": [
    "### Feature Scaling: Standardization or Normalization"
   ]
  },
  {
   "cell_type": "markdown",
   "id": "6e9e8f7a",
   "metadata": {},
   "source": [
    "## "
   ]
  }
 ],
 "metadata": {
  "kernelspec": {
   "display_name": "Python 3 (ipykernel)",
   "language": "python",
   "name": "python3"
  },
  "language_info": {
   "codemirror_mode": {
    "name": "ipython",
    "version": 3
   },
   "file_extension": ".py",
   "mimetype": "text/x-python",
   "name": "python",
   "nbconvert_exporter": "python",
   "pygments_lexer": "ipython3",
   "version": "3.9.7"
  },
  "toc": {
   "base_numbering": 1,
   "nav_menu": {},
   "number_sections": true,
   "sideBar": true,
   "skip_h1_title": false,
   "title_cell": "Table of Contents",
   "title_sidebar": "Contents",
   "toc_cell": false,
   "toc_position": {
    "height": "calc(100% - 180px)",
    "left": "10px",
    "top": "150px",
    "width": "273.188px"
   },
   "toc_section_display": true,
   "toc_window_display": true
  }
 },
 "nbformat": 4,
 "nbformat_minor": 5
}
